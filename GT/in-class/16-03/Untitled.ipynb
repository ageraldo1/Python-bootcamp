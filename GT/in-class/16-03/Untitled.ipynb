{
 "cells": [
  {
   "cell_type": "code",
   "execution_count": 1,
   "metadata": {},
   "outputs": [],
   "source": [
    "import csv"
   ]
  },
  {
   "cell_type": "code",
   "execution_count": 6,
   "metadata": {},
   "outputs": [
    {
     "name": "stdout",
     "output_type": "stream",
     "text": [
      "{'candidate1': 100, 'candidate2': 300, 'candidate3': 500}\n"
     ]
    }
   ],
   "source": [
    "candidate = {\n",
    "    \"candidate1\": 100,\n",
    "    \"candidate2\": 300,\n",
    "    \"candidate3\": 500,\n",
    "}\n",
    "\n",
    "print (candidate)"
   ]
  },
  {
   "cell_type": "code",
   "execution_count": 18,
   "metadata": {},
   "outputs": [
    {
     "name": "stdout",
     "output_type": "stream",
     "text": [
      "{'Khan': 2218231, 'Correy': 704200, 'Li': 492940, \"O'Tooley\": 105630}\n"
     ]
    }
   ],
   "source": [
    "csv_source = 'resources/election_data.csv'\n",
    "\n",
    "counter_votes = {}\n",
    "\n",
    "with open(file=csv_source, mode='r', encoding='utf-8') as csv_file:\n",
    "    csv_reader = csv.DictReader(csv_file, delimiter=',')\n",
    "    \n",
    "    for line in csv_reader:\n",
    "        if line['Candidate'] in counter_votes:\n",
    "            counter_votes[line['Candidate']] = counter_votes[line['Candidate']] + 1\n",
    "            \n",
    "        else:\n",
    "            counter_votes[line['Candidate']] = 1\n",
    "    \n",
    "    print (counter_votes )\n",
    "    \n",
    "\n",
    "            \n",
    "        \n"
   ]
  },
  {
   "cell_type": "code",
   "execution_count": null,
   "metadata": {},
   "outputs": [],
   "source": []
  }
 ],
 "metadata": {
  "kernelspec": {
   "display_name": "Python 3",
   "language": "python",
   "name": "python3"
  },
  "language_info": {
   "codemirror_mode": {
    "name": "ipython",
    "version": 3
   },
   "file_extension": ".py",
   "mimetype": "text/x-python",
   "name": "python",
   "nbconvert_exporter": "python",
   "pygments_lexer": "ipython3",
   "version": "3.7.1"
  }
 },
 "nbformat": 4,
 "nbformat_minor": 2
}
