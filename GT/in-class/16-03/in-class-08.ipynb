{
 "cells": [
  {
   "cell_type": "code",
   "execution_count": 3,
   "metadata": {},
   "outputs": [],
   "source": [
    "import pandas as pd"
   ]
  },
  {
   "cell_type": "code",
   "execution_count": 13,
   "metadata": {},
   "outputs": [
    {
     "data": {
      "text/html": [
       "<div>\n",
       "<style scoped>\n",
       "    .dataframe tbody tr th:only-of-type {\n",
       "        vertical-align: middle;\n",
       "    }\n",
       "\n",
       "    .dataframe tbody tr th {\n",
       "        vertical-align: top;\n",
       "    }\n",
       "\n",
       "    .dataframe thead th {\n",
       "        text-align: right;\n",
       "    }\n",
       "</style>\n",
       "<table border=\"1\" class=\"dataframe\">\n",
       "  <thead>\n",
       "    <tr style=\"text-align: right;\">\n",
       "      <th></th>\n",
       "      <th>Bug\n",
       "ID</th>\n",
       "      <th>Product</th>\n",
       "      <th>Component</th>\n",
       "      <th>Assignee</th>\n",
       "      <th>Status</th>\n",
       "      <th>Resolution</th>\n",
       "      <th>Summary</th>\n",
       "      <th>Changed</th>\n",
       "      <th>Assignee\n",
       "Real\n",
       "Name</th>\n",
       "      <th>Classification</th>\n",
       "      <th>...</th>\n",
       "      <th>Number of\n",
       "Comments</th>\n",
       "      <th>Opened</th>\n",
       "      <th>OS</th>\n",
       "      <th>Priority</th>\n",
       "      <th>Reporter</th>\n",
       "      <th>Reporter\n",
       "Real\n",
       "Name</th>\n",
       "      <th>Severity</th>\n",
       "      <th>Target\n",
       "Milestone</th>\n",
       "      <th>Version</th>\n",
       "      <th>Votes</th>\n",
       "    </tr>\n",
       "  </thead>\n",
       "  <tbody>\n",
       "    <tr>\n",
       "      <th>0</th>\n",
       "      <td>3638</td>\n",
       "      <td>JDT</td>\n",
       "      <td>UI</td>\n",
       "      <td>aeschli</td>\n",
       "      <td>VERIFIED</td>\n",
       "      <td>FIXED</td>\n",
       "      <td>Package Viewer: order resource folders before ...</td>\n",
       "      <td>1/17/2002 7:28</td>\n",
       "      <td>Martin Aeschlimann</td>\n",
       "      <td>Eclipse</td>\n",
       "      <td>...</td>\n",
       "      <td>3</td>\n",
       "      <td>10/10/2001 22:58</td>\n",
       "      <td>Windows NT</td>\n",
       "      <td>P1</td>\n",
       "      <td>aeschli</td>\n",
       "      <td>Martin Aeschlimann</td>\n",
       "      <td>major</td>\n",
       "      <td>---</td>\n",
       "      <td>2</td>\n",
       "      <td>0</td>\n",
       "    </tr>\n",
       "    <tr>\n",
       "      <th>1</th>\n",
       "      <td>3854</td>\n",
       "      <td>JDT</td>\n",
       "      <td>UI</td>\n",
       "      <td>aeschli</td>\n",
       "      <td>VERIFIED</td>\n",
       "      <td>FIXED</td>\n",
       "      <td>Wrong execution's classpath. (1GEY0W0)</td>\n",
       "      <td>1/18/2002 4:02</td>\n",
       "      <td>Martin Aeschlimann</td>\n",
       "      <td>Eclipse</td>\n",
       "      <td>...</td>\n",
       "      <td>5</td>\n",
       "      <td>10/10/2001 23:01</td>\n",
       "      <td>Windows NT</td>\n",
       "      <td>P1</td>\n",
       "      <td>david_audel</td>\n",
       "      <td>David Audel</td>\n",
       "      <td>normal</td>\n",
       "      <td>---</td>\n",
       "      <td>2</td>\n",
       "      <td>0</td>\n",
       "    </tr>\n",
       "    <tr>\n",
       "      <th>2</th>\n",
       "      <td>4188</td>\n",
       "      <td>JDT</td>\n",
       "      <td>UI</td>\n",
       "      <td>aeschli</td>\n",
       "      <td>VERIFIED</td>\n",
       "      <td>FIXED</td>\n",
       "      <td>type hierachy - typo (1GJW2XJ)</td>\n",
       "      <td>1/28/2002 3:12</td>\n",
       "      <td>Martin Aeschlimann</td>\n",
       "      <td>Eclipse</td>\n",
       "      <td>...</td>\n",
       "      <td>3</td>\n",
       "      <td>10/10/2001 23:07</td>\n",
       "      <td>Windows 2000</td>\n",
       "      <td>P1</td>\n",
       "      <td>erich_gamma</td>\n",
       "      <td>Erich Gamma</td>\n",
       "      <td>normal</td>\n",
       "      <td>---</td>\n",
       "      <td>2</td>\n",
       "      <td>0</td>\n",
       "    </tr>\n",
       "  </tbody>\n",
       "</table>\n",
       "<p>3 rows × 21 columns</p>\n",
       "</div>"
      ],
      "text/plain": [
       "   Bug\\nID Product Component Assignee    Status Resolution  \\\n",
       "0     3638     JDT        UI  aeschli  VERIFIED      FIXED   \n",
       "1     3854     JDT        UI  aeschli  VERIFIED      FIXED   \n",
       "2     4188     JDT        UI  aeschli  VERIFIED      FIXED   \n",
       "\n",
       "                                             Summary         Changed  \\\n",
       "0  Package Viewer: order resource folders before ...  1/17/2002 7:28   \n",
       "1             Wrong execution's classpath. (1GEY0W0)  1/18/2002 4:02   \n",
       "2                     type hierachy - typo (1GJW2XJ)  1/28/2002 3:12   \n",
       "\n",
       "  Assignee\\nReal\\nName Classification  ...  Number of\\nComments  \\\n",
       "0   Martin Aeschlimann        Eclipse  ...                    3   \n",
       "1   Martin Aeschlimann        Eclipse  ...                    5   \n",
       "2   Martin Aeschlimann        Eclipse  ...                    3   \n",
       "\n",
       "             Opened            OS Priority     Reporter Reporter\\nReal\\nName  \\\n",
       "0  10/10/2001 22:58    Windows NT       P1      aeschli   Martin Aeschlimann   \n",
       "1  10/10/2001 23:01    Windows NT       P1  david_audel          David Audel   \n",
       "2  10/10/2001 23:07  Windows 2000       P1  erich_gamma          Erich Gamma   \n",
       "\n",
       "  Severity Target\\nMilestone Version Votes  \n",
       "0    major               ---       2     0  \n",
       "1   normal               ---       2     0  \n",
       "2   normal               ---       2     0  \n",
       "\n",
       "[3 rows x 21 columns]"
      ]
     },
     "execution_count": 13,
     "metadata": {},
     "output_type": "execute_result"
    }
   ],
   "source": [
    "df = pd.read_csv('resources/EclipseBugs.csv', encoding='utf8')\n",
    "\n",
    "df.head(3)"
   ]
  },
  {
   "cell_type": "markdown",
   "metadata": {},
   "source": [
    "### 1. Dig through the Jupyter Notebook provided and attempt to fix as many bugs as possible. There are a lot of them and the bugs get harder to deal with as the code progresses."
   ]
  },
  {
   "cell_type": "code",
   "execution_count": 14,
   "metadata": {},
   "outputs": [
    {
     "data": {
      "text/plain": [
       "(10000, 21)"
      ]
     },
     "execution_count": 14,
     "metadata": {},
     "output_type": "execute_result"
    }
   ],
   "source": [
    "df.shape"
   ]
  },
  {
   "cell_type": "code",
   "execution_count": 15,
   "metadata": {},
   "outputs": [
    {
     "name": "stdout",
     "output_type": "stream",
     "text": [
      "<class 'pandas.core.frame.DataFrame'>\n",
      "RangeIndex: 10000 entries, 0 to 9999\n",
      "Data columns (total 21 columns):\n",
      "Bug\n",
      "ID                10000 non-null int64\n",
      "Product               10000 non-null object\n",
      "Component             10000 non-null object\n",
      "Assignee              10000 non-null object\n",
      "Status                10000 non-null object\n",
      "Resolution            10000 non-null object\n",
      "Summary               10000 non-null object\n",
      "Changed               10000 non-null object\n",
      "Assignee\n",
      "Real\n",
      "Name    10000 non-null object\n",
      "Classification        10000 non-null object\n",
      "Hardware              10000 non-null object\n",
      "Number of\n",
      "Comments    10000 non-null int64\n",
      "Opened                10000 non-null object\n",
      "OS                    10000 non-null object\n",
      "Priority              10000 non-null object\n",
      "Reporter              10000 non-null object\n",
      "Reporter\n",
      "Real\n",
      "Name    9967 non-null object\n",
      "Severity              10000 non-null object\n",
      "Target\n",
      "Milestone      10000 non-null object\n",
      "Version               10000 non-null object\n",
      "Votes                 10000 non-null int64\n",
      "dtypes: int64(3), object(18)\n",
      "memory usage: 1.6+ MB\n"
     ]
    }
   ],
   "source": [
    "df.info()"
   ]
  },
  {
   "cell_type": "code",
   "execution_count": 16,
   "metadata": {},
   "outputs": [
    {
     "data": {
      "text/plain": [
       "Index(['Bug\\nID', 'Product', 'Component', 'Assignee', 'Status', 'Resolution',\n",
       "       'Summary', 'Changed', 'Assignee\\nReal\\nName', 'Classification',\n",
       "       'Hardware', 'Number of\\nComments', 'Opened', 'OS', 'Priority',\n",
       "       'Reporter', 'Reporter\\nReal\\nName', 'Severity', 'Target\\nMilestone',\n",
       "       'Version', 'Votes'],\n",
       "      dtype='object')"
      ]
     },
     "execution_count": 16,
     "metadata": {},
     "output_type": "execute_result"
    }
   ],
   "source": [
    "df.columns"
   ]
  },
  {
   "cell_type": "markdown",
   "metadata": {},
   "source": [
    "### a. Header is a mess. Loading again fixing the header"
   ]
  },
  {
   "cell_type": "code",
   "execution_count": 21,
   "metadata": {},
   "outputs": [
    {
     "data": {
      "text/html": [
       "<div>\n",
       "<style scoped>\n",
       "    .dataframe tbody tr th:only-of-type {\n",
       "        vertical-align: middle;\n",
       "    }\n",
       "\n",
       "    .dataframe tbody tr th {\n",
       "        vertical-align: top;\n",
       "    }\n",
       "\n",
       "    .dataframe thead th {\n",
       "        text-align: right;\n",
       "    }\n",
       "</style>\n",
       "<table border=\"1\" class=\"dataframe\">\n",
       "  <thead>\n",
       "    <tr style=\"text-align: right;\">\n",
       "      <th></th>\n",
       "      <th>Bug ID</th>\n",
       "      <th>Product</th>\n",
       "      <th>Component</th>\n",
       "      <th>Assignee</th>\n",
       "      <th>Status</th>\n",
       "      <th>Resolution</th>\n",
       "      <th>Summary</th>\n",
       "      <th>Changed</th>\n",
       "      <th>Assignee Real Name</th>\n",
       "      <th>Classification</th>\n",
       "      <th>...</th>\n",
       "      <th>Number of Comments</th>\n",
       "      <th>Opened</th>\n",
       "      <th>OS</th>\n",
       "      <th>Priority</th>\n",
       "      <th>Reporter</th>\n",
       "      <th>Reporter Real Name</th>\n",
       "      <th>Severity</th>\n",
       "      <th>Target Milestone</th>\n",
       "      <th>Version</th>\n",
       "      <th>Votes</th>\n",
       "    </tr>\n",
       "  </thead>\n",
       "  <tbody>\n",
       "    <tr>\n",
       "      <th>0</th>\n",
       "      <td>3638</td>\n",
       "      <td>JDT</td>\n",
       "      <td>UI</td>\n",
       "      <td>aeschli</td>\n",
       "      <td>VERIFIED</td>\n",
       "      <td>FIXED</td>\n",
       "      <td>Package Viewer: order resource folders before ...</td>\n",
       "      <td>1/17/2002 7:28</td>\n",
       "      <td>Martin Aeschlimann</td>\n",
       "      <td>Eclipse</td>\n",
       "      <td>...</td>\n",
       "      <td>3</td>\n",
       "      <td>10/10/2001 22:58</td>\n",
       "      <td>Windows NT</td>\n",
       "      <td>P1</td>\n",
       "      <td>aeschli</td>\n",
       "      <td>Martin Aeschlimann</td>\n",
       "      <td>major</td>\n",
       "      <td>---</td>\n",
       "      <td>2</td>\n",
       "      <td>0</td>\n",
       "    </tr>\n",
       "    <tr>\n",
       "      <th>1</th>\n",
       "      <td>3854</td>\n",
       "      <td>JDT</td>\n",
       "      <td>UI</td>\n",
       "      <td>aeschli</td>\n",
       "      <td>VERIFIED</td>\n",
       "      <td>FIXED</td>\n",
       "      <td>Wrong execution's classpath. (1GEY0W0)</td>\n",
       "      <td>1/18/2002 4:02</td>\n",
       "      <td>Martin Aeschlimann</td>\n",
       "      <td>Eclipse</td>\n",
       "      <td>...</td>\n",
       "      <td>5</td>\n",
       "      <td>10/10/2001 23:01</td>\n",
       "      <td>Windows NT</td>\n",
       "      <td>P1</td>\n",
       "      <td>david_audel</td>\n",
       "      <td>David Audel</td>\n",
       "      <td>normal</td>\n",
       "      <td>---</td>\n",
       "      <td>2</td>\n",
       "      <td>0</td>\n",
       "    </tr>\n",
       "    <tr>\n",
       "      <th>2</th>\n",
       "      <td>4188</td>\n",
       "      <td>JDT</td>\n",
       "      <td>UI</td>\n",
       "      <td>aeschli</td>\n",
       "      <td>VERIFIED</td>\n",
       "      <td>FIXED</td>\n",
       "      <td>type hierachy - typo (1GJW2XJ)</td>\n",
       "      <td>1/28/2002 3:12</td>\n",
       "      <td>Martin Aeschlimann</td>\n",
       "      <td>Eclipse</td>\n",
       "      <td>...</td>\n",
       "      <td>3</td>\n",
       "      <td>10/10/2001 23:07</td>\n",
       "      <td>Windows 2000</td>\n",
       "      <td>P1</td>\n",
       "      <td>erich_gamma</td>\n",
       "      <td>Erich Gamma</td>\n",
       "      <td>normal</td>\n",
       "      <td>---</td>\n",
       "      <td>2</td>\n",
       "      <td>0</td>\n",
       "    </tr>\n",
       "  </tbody>\n",
       "</table>\n",
       "<p>3 rows × 21 columns</p>\n",
       "</div>"
      ],
      "text/plain": [
       "   Bug ID Product Component Assignee    Status Resolution  \\\n",
       "0    3638     JDT        UI  aeschli  VERIFIED      FIXED   \n",
       "1    3854     JDT        UI  aeschli  VERIFIED      FIXED   \n",
       "2    4188     JDT        UI  aeschli  VERIFIED      FIXED   \n",
       "\n",
       "                                             Summary         Changed  \\\n",
       "0  Package Viewer: order resource folders before ...  1/17/2002 7:28   \n",
       "1             Wrong execution's classpath. (1GEY0W0)  1/18/2002 4:02   \n",
       "2                     type hierachy - typo (1GJW2XJ)  1/28/2002 3:12   \n",
       "\n",
       "   Assignee Real Name Classification  ...  Number of Comments  \\\n",
       "0  Martin Aeschlimann        Eclipse  ...                   3   \n",
       "1  Martin Aeschlimann        Eclipse  ...                   5   \n",
       "2  Martin Aeschlimann        Eclipse  ...                   3   \n",
       "\n",
       "             Opened            OS Priority     Reporter  Reporter Real Name  \\\n",
       "0  10/10/2001 22:58    Windows NT       P1      aeschli  Martin Aeschlimann   \n",
       "1  10/10/2001 23:01    Windows NT       P1  david_audel         David Audel   \n",
       "2  10/10/2001 23:07  Windows 2000       P1  erich_gamma         Erich Gamma   \n",
       "\n",
       "  Severity Target Milestone Version Votes  \n",
       "0    major              ---       2     0  \n",
       "1   normal              ---       2     0  \n",
       "2   normal              ---       2     0  \n",
       "\n",
       "[3 rows x 21 columns]"
      ]
     },
     "execution_count": 21,
     "metadata": {},
     "output_type": "execute_result"
    }
   ],
   "source": [
    "fixed_header = ['Bug ID','Product','Component','Assignee','Status','Resolution','Summary','Changed','Assignee Real Name','Classification','Hardware','Number of Comments','Opened','OS','Priority','Reporter','Reporter Real Name','Severity','Target Milestone','Version','Votes']\n",
    "\n",
    "\n",
    "df = pd.read_csv('resources/EclipseBugs.csv', encoding='utf8', names=fixed_header, header=0)\n",
    "\n",
    "df.head(3)"
   ]
  },
  {
   "cell_type": "code",
   "execution_count": 24,
   "metadata": {},
   "outputs": [
    {
     "name": "stdout",
     "output_type": "stream",
     "text": [
      "<class 'pandas.core.frame.DataFrame'>\n",
      "RangeIndex: 10000 entries, 0 to 9999\n",
      "Data columns (total 21 columns):\n",
      "Bug ID                10000 non-null int64\n",
      "Product               10000 non-null object\n",
      "Component             10000 non-null object\n",
      "Assignee              10000 non-null object\n",
      "Status                10000 non-null object\n",
      "Resolution            10000 non-null object\n",
      "Summary               10000 non-null object\n",
      "Changed               10000 non-null object\n",
      "Assignee Real Name    10000 non-null object\n",
      "Classification        10000 non-null object\n",
      "Hardware              10000 non-null object\n",
      "Number of Comments    10000 non-null int64\n",
      "Opened                10000 non-null object\n",
      "OS                    10000 non-null object\n",
      "Priority              10000 non-null object\n",
      "Reporter              10000 non-null object\n",
      "Reporter Real Name    9967 non-null object\n",
      "Severity              10000 non-null object\n",
      "Target Milestone      10000 non-null object\n",
      "Version               10000 non-null object\n",
      "Votes                 10000 non-null int64\n",
      "dtypes: int64(3), object(18)\n",
      "memory usage: 1.6+ MB\n"
     ]
    }
   ],
   "source": [
    "df.info()"
   ]
  },
  {
   "cell_type": "markdown",
   "metadata": {},
   "source": [
    "### b. Handling Report Real Name NaN values"
   ]
  },
  {
   "cell_type": "code",
   "execution_count": 31,
   "metadata": {},
   "outputs": [
    {
     "data": {
      "text/plain": [
       "True"
      ]
     },
     "execution_count": 31,
     "metadata": {},
     "output_type": "execute_result"
    }
   ],
   "source": [
    "df['Reporter Real Name'].hasnans"
   ]
  },
  {
   "cell_type": "code",
   "execution_count": 36,
   "metadata": {},
   "outputs": [
    {
     "data": {
      "text/html": [
       "<div>\n",
       "<style scoped>\n",
       "    .dataframe tbody tr th:only-of-type {\n",
       "        vertical-align: middle;\n",
       "    }\n",
       "\n",
       "    .dataframe tbody tr th {\n",
       "        vertical-align: top;\n",
       "    }\n",
       "\n",
       "    .dataframe thead th {\n",
       "        text-align: right;\n",
       "    }\n",
       "</style>\n",
       "<table border=\"1\" class=\"dataframe\">\n",
       "  <thead>\n",
       "    <tr style=\"text-align: right;\">\n",
       "      <th></th>\n",
       "      <th>Bug ID</th>\n",
       "      <th>Product</th>\n",
       "      <th>Component</th>\n",
       "      <th>Reporter Real Name</th>\n",
       "    </tr>\n",
       "  </thead>\n",
       "  <tbody>\n",
       "    <tr>\n",
       "      <th>189</th>\n",
       "      <td>8318</td>\n",
       "      <td>Platform</td>\n",
       "      <td>Debug</td>\n",
       "      <td>NaN</td>\n",
       "    </tr>\n",
       "    <tr>\n",
       "      <th>1062</th>\n",
       "      <td>189025</td>\n",
       "      <td>Platform</td>\n",
       "      <td>CVS</td>\n",
       "      <td>NaN</td>\n",
       "    </tr>\n",
       "    <tr>\n",
       "      <th>1895</th>\n",
       "      <td>44048</td>\n",
       "      <td>Platform</td>\n",
       "      <td>Debug</td>\n",
       "      <td>NaN</td>\n",
       "    </tr>\n",
       "    <tr>\n",
       "      <th>2686</th>\n",
       "      <td>83201</td>\n",
       "      <td>JDT</td>\n",
       "      <td>Debug</td>\n",
       "      <td>NaN</td>\n",
       "    </tr>\n",
       "    <tr>\n",
       "      <th>2745</th>\n",
       "      <td>130472</td>\n",
       "      <td>JDT</td>\n",
       "      <td>Text</td>\n",
       "      <td>NaN</td>\n",
       "    </tr>\n",
       "  </tbody>\n",
       "</table>\n",
       "</div>"
      ],
      "text/plain": [
       "      Bug ID   Product Component Reporter Real Name\n",
       "189     8318  Platform     Debug                NaN\n",
       "1062  189025  Platform       CVS                NaN\n",
       "1895   44048  Platform     Debug                NaN\n",
       "2686   83201       JDT     Debug                NaN\n",
       "2745  130472       JDT      Text                NaN"
      ]
     },
     "execution_count": 36,
     "metadata": {},
     "output_type": "execute_result"
    }
   ],
   "source": [
    "cond1 = df['Reporter Real Name'].isna()\n",
    "\n",
    "df_temp = df[cond1]\n",
    "\n",
    "df_temp[['Bug ID', 'Product', 'Component', 'Reporter Real Name']].head(5)"
   ]
  },
  {
   "cell_type": "code",
   "execution_count": 38,
   "metadata": {},
   "outputs": [],
   "source": [
    "df['Reporter Real Name'].fillna(value='Undefined',inplace=True)"
   ]
  },
  {
   "cell_type": "code",
   "execution_count": null,
   "metadata": {},
   "outputs": [],
   "source": []
  }
 ],
 "metadata": {
  "kernelspec": {
   "display_name": "Python 3",
   "language": "python",
   "name": "python3"
  },
  "language_info": {
   "codemirror_mode": {
    "name": "ipython",
    "version": 3
   },
   "file_extension": ".py",
   "mimetype": "text/x-python",
   "name": "python",
   "nbconvert_exporter": "python",
   "pygments_lexer": "ipython3",
   "version": "3.7.1"
  }
 },
 "nbformat": 4,
 "nbformat_minor": 2
}
