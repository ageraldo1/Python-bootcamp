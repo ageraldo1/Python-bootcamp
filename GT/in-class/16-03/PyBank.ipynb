{
 "cells": [
  {
   "cell_type": "markdown",
   "metadata": {},
   "source": [
    "### Step 1 - We need somehow to read a csv file"
   ]
  },
  {
   "cell_type": "code",
   "execution_count": 1,
   "metadata": {},
   "outputs": [],
   "source": [
    "import csv"
   ]
  },
  {
   "cell_type": "code",
   "execution_count": 2,
   "metadata": {},
   "outputs": [
    {
     "name": "stdout",
     "output_type": "stream",
     "text": [
      "OrderedDict([('Date', 'Jan-2010'), ('Profit/Losses', '867884')])\n",
      "OrderedDict([('Date', 'Feb-2010'), ('Profit/Losses', '984655')])\n",
      "OrderedDict([('Date', 'Mar-2010'), ('Profit/Losses', '322013')])\n",
      "OrderedDict([('Date', 'Apr-2010'), ('Profit/Losses', '-69417')])\n",
      "OrderedDict([('Date', 'May-2010'), ('Profit/Losses', '310503')])\n",
      "OrderedDict([('Date', 'Jun-2010'), ('Profit/Losses', '522857')])\n",
      "OrderedDict([('Date', 'Jul-2010'), ('Profit/Losses', '1033096')])\n",
      "OrderedDict([('Date', 'Aug-2010'), ('Profit/Losses', '604885')])\n",
      "OrderedDict([('Date', 'Sep-2010'), ('Profit/Losses', '-216386')])\n",
      "OrderedDict([('Date', 'Oct-2010'), ('Profit/Losses', '477532')])\n",
      "OrderedDict([('Date', 'Nov-2010'), ('Profit/Losses', '893810')])\n",
      "OrderedDict([('Date', 'Dec-2010'), ('Profit/Losses', '-80353')])\n",
      "OrderedDict([('Date', 'Jan-2011'), ('Profit/Losses', '779806')])\n",
      "OrderedDict([('Date', 'Feb-2011'), ('Profit/Losses', '-335203')])\n",
      "OrderedDict([('Date', 'Mar-2011'), ('Profit/Losses', '697845')])\n",
      "OrderedDict([('Date', 'Apr-2011'), ('Profit/Losses', '793163')])\n",
      "OrderedDict([('Date', 'May-2011'), ('Profit/Losses', '485070')])\n",
      "OrderedDict([('Date', 'Jun-2011'), ('Profit/Losses', '584122')])\n",
      "OrderedDict([('Date', 'Jul-2011'), ('Profit/Losses', '62729')])\n",
      "OrderedDict([('Date', 'Aug-2011'), ('Profit/Losses', '668179')])\n",
      "OrderedDict([('Date', 'Sep-2011'), ('Profit/Losses', '899906')])\n",
      "OrderedDict([('Date', 'Oct-2011'), ('Profit/Losses', '834719')])\n",
      "OrderedDict([('Date', 'Nov-2011'), ('Profit/Losses', '132003')])\n",
      "OrderedDict([('Date', 'Dec-2011'), ('Profit/Losses', '309978')])\n",
      "OrderedDict([('Date', 'Jan-2012'), ('Profit/Losses', '-755566')])\n",
      "OrderedDict([('Date', 'Feb-2012'), ('Profit/Losses', '1170593')])\n",
      "OrderedDict([('Date', 'Mar-2012'), ('Profit/Losses', '252788')])\n",
      "OrderedDict([('Date', 'Apr-2012'), ('Profit/Losses', '1151518')])\n",
      "OrderedDict([('Date', 'May-2012'), ('Profit/Losses', '817256')])\n",
      "OrderedDict([('Date', 'Jun-2012'), ('Profit/Losses', '570757')])\n",
      "OrderedDict([('Date', 'Jul-2012'), ('Profit/Losses', '506702')])\n",
      "OrderedDict([('Date', 'Aug-2012'), ('Profit/Losses', '-1022534')])\n",
      "OrderedDict([('Date', 'Sep-2012'), ('Profit/Losses', '475062')])\n",
      "OrderedDict([('Date', 'Oct-2012'), ('Profit/Losses', '779976')])\n",
      "OrderedDict([('Date', 'Nov-2012'), ('Profit/Losses', '144175')])\n",
      "OrderedDict([('Date', 'Dec-2012'), ('Profit/Losses', '542494')])\n",
      "OrderedDict([('Date', 'Jan-2013'), ('Profit/Losses', '359333')])\n",
      "OrderedDict([('Date', 'Feb-2013'), ('Profit/Losses', '321469')])\n",
      "OrderedDict([('Date', 'Mar-2013'), ('Profit/Losses', '67780')])\n",
      "OrderedDict([('Date', 'Apr-2013'), ('Profit/Losses', '471435')])\n",
      "OrderedDict([('Date', 'May-2013'), ('Profit/Losses', '565603')])\n",
      "OrderedDict([('Date', 'Jun-2013'), ('Profit/Losses', '872480')])\n",
      "OrderedDict([('Date', 'Jul-2013'), ('Profit/Losses', '789480')])\n",
      "OrderedDict([('Date', 'Aug-2013'), ('Profit/Losses', '999942')])\n",
      "OrderedDict([('Date', 'Sep-2013'), ('Profit/Losses', '-1196225')])\n",
      "OrderedDict([('Date', 'Oct-2013'), ('Profit/Losses', '268997')])\n",
      "OrderedDict([('Date', 'Nov-2013'), ('Profit/Losses', '-687986')])\n",
      "OrderedDict([('Date', 'Dec-2013'), ('Profit/Losses', '1150461')])\n",
      "OrderedDict([('Date', 'Jan-2014'), ('Profit/Losses', '682458')])\n",
      "OrderedDict([('Date', 'Feb-2014'), ('Profit/Losses', '617856')])\n",
      "OrderedDict([('Date', 'Mar-2014'), ('Profit/Losses', '824098')])\n",
      "OrderedDict([('Date', 'Apr-2014'), ('Profit/Losses', '581943')])\n",
      "OrderedDict([('Date', 'May-2014'), ('Profit/Losses', '132864')])\n",
      "OrderedDict([('Date', 'Jun-2014'), ('Profit/Losses', '448062')])\n",
      "OrderedDict([('Date', 'Jul-2014'), ('Profit/Losses', '689161')])\n",
      "OrderedDict([('Date', 'Aug-2014'), ('Profit/Losses', '800701')])\n",
      "OrderedDict([('Date', 'Sep-2014'), ('Profit/Losses', '1166643')])\n",
      "OrderedDict([('Date', 'Oct-2014'), ('Profit/Losses', '947333')])\n",
      "OrderedDict([('Date', 'Nov-2014'), ('Profit/Losses', '578668')])\n",
      "OrderedDict([('Date', 'Dec-2014'), ('Profit/Losses', '988505')])\n",
      "OrderedDict([('Date', 'Jan-2015'), ('Profit/Losses', '1139715')])\n",
      "OrderedDict([('Date', 'Feb-2015'), ('Profit/Losses', '1029471')])\n",
      "OrderedDict([('Date', 'Mar-2015'), ('Profit/Losses', '687533')])\n",
      "OrderedDict([('Date', 'Apr-2015'), ('Profit/Losses', '-524626')])\n",
      "OrderedDict([('Date', 'May-2015'), ('Profit/Losses', '158620')])\n",
      "OrderedDict([('Date', 'Jun-2015'), ('Profit/Losses', '87795')])\n",
      "OrderedDict([('Date', 'Jul-2015'), ('Profit/Losses', '423389')])\n",
      "OrderedDict([('Date', 'Aug-2015'), ('Profit/Losses', '840723')])\n",
      "OrderedDict([('Date', 'Sep-2015'), ('Profit/Losses', '568529')])\n",
      "OrderedDict([('Date', 'Oct-2015'), ('Profit/Losses', '332067')])\n",
      "OrderedDict([('Date', 'Nov-2015'), ('Profit/Losses', '989499')])\n",
      "OrderedDict([('Date', 'Dec-2015'), ('Profit/Losses', '778237')])\n",
      "OrderedDict([('Date', 'Jan-2016'), ('Profit/Losses', '650000')])\n",
      "OrderedDict([('Date', 'Feb-2016'), ('Profit/Losses', '-1100387')])\n",
      "OrderedDict([('Date', 'Mar-2016'), ('Profit/Losses', '-174946')])\n",
      "OrderedDict([('Date', 'Apr-2016'), ('Profit/Losses', '757143')])\n",
      "OrderedDict([('Date', 'May-2016'), ('Profit/Losses', '445709')])\n",
      "OrderedDict([('Date', 'Jun-2016'), ('Profit/Losses', '712961')])\n",
      "OrderedDict([('Date', 'Jul-2016'), ('Profit/Losses', '-1163797')])\n",
      "OrderedDict([('Date', 'Aug-2016'), ('Profit/Losses', '569899')])\n",
      "OrderedDict([('Date', 'Sep-2016'), ('Profit/Losses', '768450')])\n",
      "OrderedDict([('Date', 'Oct-2016'), ('Profit/Losses', '102685')])\n",
      "OrderedDict([('Date', 'Nov-2016'), ('Profit/Losses', '795914')])\n",
      "OrderedDict([('Date', 'Dec-2016'), ('Profit/Losses', '60988')])\n",
      "OrderedDict([('Date', 'Jan-2017'), ('Profit/Losses', '138230')])\n",
      "OrderedDict([('Date', 'Feb-2017'), ('Profit/Losses', '671099')])\n"
     ]
    }
   ],
   "source": [
    "csv_source = 'resources/budget_data.csv'\n",
    "\n",
    "with open(file=csv_source, mode='r', encoding='utf-8') as csv_file:\n",
    "    csv_reader = csv.DictReader(csv_file, delimiter=',')\n",
    "    \n",
    "    for line in csv_reader:\n",
    "        print (line)\n",
    "        \n"
   ]
  },
  {
   "cell_type": "markdown",
   "metadata": {},
   "source": [
    "### Step2 - The total number of months included in the dataset"
   ]
  },
  {
   "cell_type": "code",
   "execution_count": 4,
   "metadata": {},
   "outputs": [
    {
     "name": "stdout",
     "output_type": "stream",
     "text": [
      "OrderedDict([('Date', 'Jan-2010'), ('Profit/Losses', '867884')])\n",
      "OrderedDict([('Date', 'Feb-2010'), ('Profit/Losses', '984655')])\n",
      "OrderedDict([('Date', 'Mar-2010'), ('Profit/Losses', '322013')])\n",
      "OrderedDict([('Date', 'Apr-2010'), ('Profit/Losses', '-69417')])\n",
      "OrderedDict([('Date', 'May-2010'), ('Profit/Losses', '310503')])\n",
      "OrderedDict([('Date', 'Jun-2010'), ('Profit/Losses', '522857')])\n",
      "OrderedDict([('Date', 'Jul-2010'), ('Profit/Losses', '1033096')])\n",
      "OrderedDict([('Date', 'Aug-2010'), ('Profit/Losses', '604885')])\n",
      "OrderedDict([('Date', 'Sep-2010'), ('Profit/Losses', '-216386')])\n",
      "OrderedDict([('Date', 'Oct-2010'), ('Profit/Losses', '477532')])\n",
      "OrderedDict([('Date', 'Nov-2010'), ('Profit/Losses', '893810')])\n",
      "OrderedDict([('Date', 'Dec-2010'), ('Profit/Losses', '-80353')])\n",
      "OrderedDict([('Date', 'Jan-2011'), ('Profit/Losses', '779806')])\n",
      "OrderedDict([('Date', 'Feb-2011'), ('Profit/Losses', '-335203')])\n",
      "OrderedDict([('Date', 'Mar-2011'), ('Profit/Losses', '697845')])\n",
      "OrderedDict([('Date', 'Apr-2011'), ('Profit/Losses', '793163')])\n",
      "OrderedDict([('Date', 'May-2011'), ('Profit/Losses', '485070')])\n",
      "OrderedDict([('Date', 'Jun-2011'), ('Profit/Losses', '584122')])\n",
      "OrderedDict([('Date', 'Jul-2011'), ('Profit/Losses', '62729')])\n",
      "OrderedDict([('Date', 'Aug-2011'), ('Profit/Losses', '668179')])\n",
      "OrderedDict([('Date', 'Sep-2011'), ('Profit/Losses', '899906')])\n",
      "OrderedDict([('Date', 'Oct-2011'), ('Profit/Losses', '834719')])\n",
      "OrderedDict([('Date', 'Nov-2011'), ('Profit/Losses', '132003')])\n",
      "OrderedDict([('Date', 'Dec-2011'), ('Profit/Losses', '309978')])\n",
      "OrderedDict([('Date', 'Jan-2012'), ('Profit/Losses', '-755566')])\n",
      "OrderedDict([('Date', 'Feb-2012'), ('Profit/Losses', '1170593')])\n",
      "OrderedDict([('Date', 'Mar-2012'), ('Profit/Losses', '252788')])\n",
      "OrderedDict([('Date', 'Apr-2012'), ('Profit/Losses', '1151518')])\n",
      "OrderedDict([('Date', 'May-2012'), ('Profit/Losses', '817256')])\n",
      "OrderedDict([('Date', 'Jun-2012'), ('Profit/Losses', '570757')])\n",
      "OrderedDict([('Date', 'Jul-2012'), ('Profit/Losses', '506702')])\n",
      "OrderedDict([('Date', 'Aug-2012'), ('Profit/Losses', '-1022534')])\n",
      "OrderedDict([('Date', 'Sep-2012'), ('Profit/Losses', '475062')])\n",
      "OrderedDict([('Date', 'Oct-2012'), ('Profit/Losses', '779976')])\n",
      "OrderedDict([('Date', 'Nov-2012'), ('Profit/Losses', '144175')])\n",
      "OrderedDict([('Date', 'Dec-2012'), ('Profit/Losses', '542494')])\n",
      "OrderedDict([('Date', 'Jan-2013'), ('Profit/Losses', '359333')])\n",
      "OrderedDict([('Date', 'Feb-2013'), ('Profit/Losses', '321469')])\n",
      "OrderedDict([('Date', 'Mar-2013'), ('Profit/Losses', '67780')])\n",
      "OrderedDict([('Date', 'Apr-2013'), ('Profit/Losses', '471435')])\n",
      "OrderedDict([('Date', 'May-2013'), ('Profit/Losses', '565603')])\n",
      "OrderedDict([('Date', 'Jun-2013'), ('Profit/Losses', '872480')])\n",
      "OrderedDict([('Date', 'Jul-2013'), ('Profit/Losses', '789480')])\n",
      "OrderedDict([('Date', 'Aug-2013'), ('Profit/Losses', '999942')])\n",
      "OrderedDict([('Date', 'Sep-2013'), ('Profit/Losses', '-1196225')])\n",
      "OrderedDict([('Date', 'Oct-2013'), ('Profit/Losses', '268997')])\n",
      "OrderedDict([('Date', 'Nov-2013'), ('Profit/Losses', '-687986')])\n",
      "OrderedDict([('Date', 'Dec-2013'), ('Profit/Losses', '1150461')])\n",
      "OrderedDict([('Date', 'Jan-2014'), ('Profit/Losses', '682458')])\n",
      "OrderedDict([('Date', 'Feb-2014'), ('Profit/Losses', '617856')])\n",
      "OrderedDict([('Date', 'Mar-2014'), ('Profit/Losses', '824098')])\n",
      "OrderedDict([('Date', 'Apr-2014'), ('Profit/Losses', '581943')])\n",
      "OrderedDict([('Date', 'May-2014'), ('Profit/Losses', '132864')])\n",
      "OrderedDict([('Date', 'Jun-2014'), ('Profit/Losses', '448062')])\n",
      "OrderedDict([('Date', 'Jul-2014'), ('Profit/Losses', '689161')])\n",
      "OrderedDict([('Date', 'Aug-2014'), ('Profit/Losses', '800701')])\n",
      "OrderedDict([('Date', 'Sep-2014'), ('Profit/Losses', '1166643')])\n",
      "OrderedDict([('Date', 'Oct-2014'), ('Profit/Losses', '947333')])\n",
      "OrderedDict([('Date', 'Nov-2014'), ('Profit/Losses', '578668')])\n",
      "OrderedDict([('Date', 'Dec-2014'), ('Profit/Losses', '988505')])\n",
      "OrderedDict([('Date', 'Jan-2015'), ('Profit/Losses', '1139715')])\n",
      "OrderedDict([('Date', 'Feb-2015'), ('Profit/Losses', '1029471')])\n",
      "OrderedDict([('Date', 'Mar-2015'), ('Profit/Losses', '687533')])\n",
      "OrderedDict([('Date', 'Apr-2015'), ('Profit/Losses', '-524626')])\n",
      "OrderedDict([('Date', 'May-2015'), ('Profit/Losses', '158620')])\n",
      "OrderedDict([('Date', 'Jun-2015'), ('Profit/Losses', '87795')])\n",
      "OrderedDict([('Date', 'Jul-2015'), ('Profit/Losses', '423389')])\n",
      "OrderedDict([('Date', 'Aug-2015'), ('Profit/Losses', '840723')])\n",
      "OrderedDict([('Date', 'Sep-2015'), ('Profit/Losses', '568529')])\n",
      "OrderedDict([('Date', 'Oct-2015'), ('Profit/Losses', '332067')])\n",
      "OrderedDict([('Date', 'Nov-2015'), ('Profit/Losses', '989499')])\n",
      "OrderedDict([('Date', 'Dec-2015'), ('Profit/Losses', '778237')])\n",
      "OrderedDict([('Date', 'Jan-2016'), ('Profit/Losses', '650000')])\n",
      "OrderedDict([('Date', 'Feb-2016'), ('Profit/Losses', '-1100387')])\n",
      "OrderedDict([('Date', 'Mar-2016'), ('Profit/Losses', '-174946')])\n",
      "OrderedDict([('Date', 'Apr-2016'), ('Profit/Losses', '757143')])\n",
      "OrderedDict([('Date', 'May-2016'), ('Profit/Losses', '445709')])\n",
      "OrderedDict([('Date', 'Jun-2016'), ('Profit/Losses', '712961')])\n",
      "OrderedDict([('Date', 'Jul-2016'), ('Profit/Losses', '-1163797')])\n",
      "OrderedDict([('Date', 'Aug-2016'), ('Profit/Losses', '569899')])\n",
      "OrderedDict([('Date', 'Sep-2016'), ('Profit/Losses', '768450')])\n",
      "OrderedDict([('Date', 'Oct-2016'), ('Profit/Losses', '102685')])\n",
      "OrderedDict([('Date', 'Nov-2016'), ('Profit/Losses', '795914')])\n",
      "OrderedDict([('Date', 'Dec-2016'), ('Profit/Losses', '60988')])\n",
      "OrderedDict([('Date', 'Jan-2017'), ('Profit/Losses', '138230')])\n",
      "OrderedDict([('Date', 'Feb-2017'), ('Profit/Losses', '671099')])\n",
      "Total numbers of months : 86\n"
     ]
    }
   ],
   "source": [
    "csv_source = 'resources/budget_data.csv'\n",
    "\n",
    "with open(file=csv_source, mode='r', encoding='utf-8') as csv_file:\n",
    "    csv_reader = csv.DictReader(csv_file, delimiter=',')\n",
    "    \n",
    "    total_months = 0\n",
    "    \n",
    "    for line in csv_reader:\n",
    "        total_months = total_months + 1\n",
    "    \n",
    "    print (f\"Total numbers of months : {total_months}\")\n",
    "        \n"
   ]
  },
  {
   "cell_type": "markdown",
   "metadata": {},
   "source": [
    "### Step 3 - The net total amount of \"Profit/Losses\" over the entire period"
   ]
  },
  {
   "cell_type": "code",
   "execution_count": 7,
   "metadata": {},
   "outputs": [
    {
     "name": "stdout",
     "output_type": "stream",
     "text": [
      "Total numbers of months : 86\n",
      "Total amount : 38382578\n"
     ]
    }
   ],
   "source": [
    "csv_source = 'resources/budget_data.csv'\n",
    "\n",
    "with open(file=csv_source, mode='r', encoding='utf-8') as csv_file:\n",
    "    csv_reader = csv.DictReader(csv_file, delimiter=',')\n",
    "    \n",
    "    total_months = 0\n",
    "    total_amount = 0\n",
    "    \n",
    "    for line in csv_reader:\n",
    "        total_months = total_months + 1\n",
    "        total_amount = total_amount + int(line['Profit/Losses'])\n",
    "    \n",
    "    print (f\"Total numbers of months : {total_months}\")\n",
    "    print (f\"Total amount : {total_amount}\")\n",
    "        \n"
   ]
  },
  {
   "cell_type": "markdown",
   "metadata": {},
   "source": [
    "### Step 4 - The average of the changes in \"Profit/Losses\" over the entire period\n"
   ]
  },
  {
   "cell_type": "code",
   "execution_count": 15,
   "metadata": {},
   "outputs": [
    {
     "name": "stdout",
     "output_type": "stream",
     "text": [
      "Total numbers of months : 86\n",
      "Total amount : 38382578\n",
      "Average Change : -2315.1176470588234\n"
     ]
    }
   ],
   "source": [
    "csv_source = 'resources/budget_data.csv'\n",
    "\n",
    "with open(file=csv_source, mode='r', encoding='utf-8') as csv_file:\n",
    "    csv_reader = csv.DictReader(csv_file, delimiter=',')\n",
    "    \n",
    "    total_months = 0\n",
    "    total_amount = 0\n",
    "    previous_amount = 0\n",
    "    average_amount = 0\n",
    "    total_average_amount = 0\n",
    "    \n",
    "    for line in csv_reader:\n",
    "        total_months = total_months + 1\n",
    "        total_amount = total_amount + int(line['Profit/Losses'])\n",
    "        \n",
    "        if  (csv_reader.line_num == 2):\n",
    "            previous_amount = int(line['Profit/Losses'])\n",
    "            \n",
    "        else:\n",
    "            average_amount = int(line['Profit/Losses']) - previous_amount \n",
    "            previous_amount = int(line['Profit/Losses'])\n",
    "        \n",
    "        total_average_amount = total_average_amount + average_amount\n",
    "        #print (average_amount)\n",
    "        \n",
    "    print (f\"Total numbers of months : {total_months}\")\n",
    "    print (f\"Total amount : {total_amount}\")\n",
    "    print (f\"Average Change : {total_average_amount/(total_months-1)}\")\n",
    "        \n"
   ]
  },
  {
   "cell_type": "code",
   "execution_count": null,
   "metadata": {},
   "outputs": [],
   "source": []
  }
 ],
 "metadata": {
  "kernelspec": {
   "display_name": "Python 3",
   "language": "python",
   "name": "python3"
  },
  "language_info": {
   "codemirror_mode": {
    "name": "ipython",
    "version": 3
   },
   "file_extension": ".py",
   "mimetype": "text/x-python",
   "name": "python",
   "nbconvert_exporter": "python",
   "pygments_lexer": "ipython3",
   "version": "3.7.1"
  }
 },
 "nbformat": 4,
 "nbformat_minor": 2
}
